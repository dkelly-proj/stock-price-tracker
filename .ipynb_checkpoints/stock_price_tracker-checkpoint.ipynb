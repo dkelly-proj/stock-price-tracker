{
 "cells": [
  {
   "cell_type": "markdown",
   "metadata": {},
   "source": [
    "### Import modules"
   ]
  },
  {
   "cell_type": "code",
   "execution_count": null,
   "metadata": {},
   "outputs": [],
   "source": [
    "import matplotlib.pyplot as plt\n",
    "import numpy as np\n",
    "import os\n",
    "import pandas as pd\n",
    "from PIL import Image\n",
    "import yfinance as yf"
   ]
  },
  {
   "cell_type": "markdown",
   "metadata": {},
   "source": [
    "### User selects three stocks to track"
   ]
  },
  {
   "cell_type": "code",
   "execution_count": null,
   "metadata": {},
   "outputs": [],
   "source": [
    "ticker_list = []\n",
    "\n",
    "for i in range(1, 4):\n",
    "    ticker_list.append(input('Enter stock number ' + str(i) + ' to track: '))"
   ]
  },
  {
   "cell_type": "markdown",
   "metadata": {},
   "source": [
    "### Collect data from past 5 years for selected stocks"
   ]
  },
  {
   "cell_type": "code",
   "execution_count": null,
   "metadata": {},
   "outputs": [],
   "source": [
    "tickers = str(ticker_list[0] + ' ' + ticker_list[1] + ' ' + ticker_list[2])\n",
    " \n",
    "yahoo_data = yf.download(tickers = tickers,\n",
    "                         period = '5y',\n",
    "                         interval = '1d',\n",
    "                         group_by = 'ticker')\n"
   ]
  },
  {
   "cell_type": "markdown",
   "metadata": {},
   "source": [
    "### Organize data into a tidy dataframe for plotting"
   ]
  },
  {
   "cell_type": "code",
   "execution_count": null,
   "metadata": {},
   "outputs": [],
   "source": [
    "df = (yahoo_data\n",
    "          .filter(items = [(ticker_list[0], 'Close'), (ticker_list[1], 'Close'), (ticker_list[2], 'Close')])\n",
    "          .reset_index()\n",
    "          .droplevel(1, axis = 1)\n",
    "          .melt(id_vars = ['Date'], value_vars = ticker_list, var_name = 'Ticker', value_name = 'Price')\n",
    "          .query('Price == Price')\n",
    "          .reset_index(drop = True))"
   ]
  },
  {
   "cell_type": "markdown",
   "metadata": {},
   "source": [
    "### Create plot"
   ]
  },
  {
   "cell_type": "code",
   "execution_count": null,
   "metadata": {
    "scrolled": true
   },
   "outputs": [],
   "source": [
    "plt.figure(figsize = (20, 10))\n",
    "\n",
    "plt.plot(df[df['Ticker'] == ticker_list[0]]['Date'],\n",
    "         df[df['Ticker'] == ticker_list[0]]['Price'],\n",
    "         label = ticker_list[0])\n",
    "\n",
    "plt.plot(df[df['Ticker'] == ticker_list[1]]['Date'],\n",
    "         df[df['Ticker'] == ticker_list[1]]['Price'],\n",
    "         label = ticker_list[1])\n",
    "\n",
    "plt.plot(df[df['Ticker'] == ticker_list[2]]['Date'],\n",
    "         df[df['Ticker'] == ticker_list[2]]['Price'],\n",
    "         label = ticker_list[2])\n",
    "\n",
    "plt.title('Stock Prices over the Last Five Years')\n",
    "plt.legend()\n",
    "plt.xlabel('Date')\n",
    "plt.ylabel('Closing Price')\n",
    "\n",
    "fname = str(ticker_list[0] + '_' + ticker_list[1] + '_' + ticker_list[2] + '.png')\n",
    "\n",
    "plt.savefig(fname = fname)"
   ]
  },
  {
   "cell_type": "markdown",
   "metadata": {},
   "source": [
    "### Open and display plot"
   ]
  },
  {
   "cell_type": "code",
   "execution_count": null,
   "metadata": {},
   "outputs": [],
   "source": [
    "img = Image.open(fname)\n",
    "img.show()"
   ]
  }
 ],
 "metadata": {
  "kernelspec": {
   "display_name": "Python 3",
   "language": "python",
   "name": "python3"
  },
  "language_info": {
   "codemirror_mode": {
    "name": "ipython",
    "version": 3
   },
   "file_extension": ".py",
   "mimetype": "text/x-python",
   "name": "python",
   "nbconvert_exporter": "python",
   "pygments_lexer": "ipython3",
   "version": "3.7.1"
  }
 },
 "nbformat": 4,
 "nbformat_minor": 2
}
