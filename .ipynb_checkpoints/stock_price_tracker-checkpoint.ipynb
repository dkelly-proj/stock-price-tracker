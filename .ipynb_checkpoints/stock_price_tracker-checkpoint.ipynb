{
 "cells": [
  {
   "cell_type": "markdown",
   "metadata": {},
   "source": [
    "### Import modules"
   ]
  },
  {
   "cell_type": "code",
   "execution_count": 1,
   "metadata": {},
   "outputs": [],
   "source": [
    "import os\n",
    "import pandas as pd\n",
    "import yfinance as yf"
   ]
  },
  {
   "cell_type": "markdown",
   "metadata": {},
   "source": [
    "### User selects three stocks to track"
   ]
  },
  {
   "cell_type": "code",
   "execution_count": 11,
   "metadata": {},
   "outputs": [
    {
     "name": "stdout",
     "output_type": "stream",
     "text": [
      "Enter stock number 1 to track: SNAP\n",
      "Enter stock number 2 to track: F\n",
      "Enter stock number 3 to track: MSFT\n"
     ]
    }
   ],
   "source": [
    "ticker_list = []\n",
    "\n",
    "for i in range(1, 4):\n",
    "    ticker_list.append(input('Enter stock number ' + str(i) + ' to track: '))"
   ]
  },
  {
   "cell_type": "markdown",
   "metadata": {},
   "source": [
    "### Collect data from past 5 years for selected stocks"
   ]
  },
  {
   "cell_type": "code",
   "execution_count": 16,
   "metadata": {},
   "outputs": [
    {
     "name": "stdout",
     "output_type": "stream",
     "text": [
      "[*********************100%***********************]  3 of 3 completed\n"
     ]
    }
   ],
   "source": [
    "tickers = str(ticker_list[0] + ' ' + ticker_list[1] + ' ' + ticker_list[2])\n",
    " \n",
    "yahoo_data = yf.download(tickers = tickers,\n",
    "                         period = '5y',\n",
    "                         interval = '1d',\n",
    "                         group_by = 'ticker')\n"
   ]
  },
  {
   "cell_type": "markdown",
   "metadata": {},
   "source": [
    "### Organize data into a tidy dataframe for plotting"
   ]
  },
  {
   "cell_type": "code",
   "execution_count": 34,
   "metadata": {},
   "outputs": [],
   "source": [
    "df = (yahoo_data\n",
    "          .filter(items = [(ticker_list[0], 'Close'), (ticker_list[1], 'Close'), (ticker_list[2], 'Close')])\n",
    "          .reset_index()\n",
    "          .droplevel(1, axis = 1)\n",
    "          .melt(id_vars = ['Date'], value_vars = ticker_list, var_name = 'Ticker', value_name = 'Price')\n",
    "          .query('Price == Price')\n",
    "          .reset_index(drop = True))"
   ]
  }
 ],
 "metadata": {
  "kernelspec": {
   "display_name": "Python 3",
   "language": "python",
   "name": "python3"
  },
  "language_info": {
   "codemirror_mode": {
    "name": "ipython",
    "version": 3
   },
   "file_extension": ".py",
   "mimetype": "text/x-python",
   "name": "python",
   "nbconvert_exporter": "python",
   "pygments_lexer": "ipython3",
   "version": "3.7.1"
  }
 },
 "nbformat": 4,
 "nbformat_minor": 2
}
