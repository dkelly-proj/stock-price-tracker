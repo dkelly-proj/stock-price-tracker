{
 "cells": [
  {
   "cell_type": "markdown",
   "metadata": {},
   "source": [
    "### Import modules"
   ]
  },
  {
   "cell_type": "code",
   "execution_count": null,
   "metadata": {},
   "outputs": [],
   "source": [
    "import matplotlib.pyplot as plt\n",
    "import numpy as np\n",
    "import os\n",
    "import pandas as pd\n",
    "from PIL import Image\n",
    "import yfinance as yf\n",
    "\n",
    "from pandas.plotting import register_matplotlib_converters\n",
    "register_matplotlib_converters()"
   ]
  },
  {
   "cell_type": "markdown",
   "metadata": {},
   "source": [
    "### User selects stocks to track"
   ]
  },
  {
   "cell_type": "code",
   "execution_count": null,
   "metadata": {},
   "outputs": [],
   "source": [
    "ticker_list = []\n",
    "\n",
    "while True:\n",
    "    ticker = input('Enter stock ticker to track, after all have been entered type \"Done\": ')\n",
    "    \n",
    "    if ticker == \"Done\":\n",
    "        break\n",
    "    else:\n",
    "        ticker_list.append(ticker)"
   ]
  },
  {
   "cell_type": "markdown",
   "metadata": {},
   "source": [
    "### Collect data from past 5 years for selected stocks"
   ]
  },
  {
   "cell_type": "code",
   "execution_count": null,
   "metadata": {},
   "outputs": [],
   "source": [
    "tickers = ' '.join(ticker_list)\n",
    " \n",
    "yahoo_data = yf.download(tickers = tickers,\n",
    "                         period = '5y',\n",
    "                         interval = '1d',\n",
    "                         group_by = 'ticker')\n"
   ]
  },
  {
   "cell_type": "markdown",
   "metadata": {},
   "source": [
    "### Organize data into a tidy dataframe for plotting"
   ]
  },
  {
   "cell_type": "code",
   "execution_count": null,
   "metadata": {},
   "outputs": [],
   "source": [
    "close_list = []\n",
    "\n",
    "for i in range(len(ticker_list)):\n",
    "    close_list.append(\"Close\")\n",
    "\n",
    "mask = [item for item in zip(ticker_list, close_list)]"
   ]
  },
  {
   "cell_type": "code",
   "execution_count": null,
   "metadata": {},
   "outputs": [],
   "source": [
    "df = (yahoo_data\n",
    "          .filter(items = mask)\n",
    "          .reset_index()\n",
    "          .droplevel(1, axis = 1)\n",
    "          .melt(id_vars = ['Date'], value_vars = ticker_list, var_name = 'Ticker', value_name = 'Price')\n",
    "          .query('Price == Price')\n",
    "          .reset_index(drop = True))"
   ]
  },
  {
   "cell_type": "markdown",
   "metadata": {},
   "source": [
    "### Create plot"
   ]
  },
  {
   "cell_type": "code",
   "execution_count": null,
   "metadata": {
    "scrolled": true
   },
   "outputs": [],
   "source": [
    "plt.figure(figsize = (20, 10))\n",
    "\n",
    "plt.style.use('fivethirtyeight')\n",
    "\n",
    "for i in range(len(ticker_list)):\n",
    "    plt.plot(df[df['Ticker'] == ticker_list[i]]['Date'],\n",
    "             df[df['Ticker'] == ticker_list[i]]['Price'],\n",
    "             label = ticker_list[i])\n",
    "\n",
    "plt.title('Stock Prices over the Last Five Years')\n",
    "plt.legend()\n",
    "plt.xlabel('Date')\n",
    "plt.ylabel('Closing Price')\n",
    "\n",
    "fname = str('_'.join(ticker_list) + '.png')\n",
    "\n",
    "plt.savefig(fname = fname)"
   ]
  },
  {
   "cell_type": "markdown",
   "metadata": {},
   "source": [
    "### Open and display plot"
   ]
  },
  {
   "cell_type": "code",
   "execution_count": null,
   "metadata": {},
   "outputs": [],
   "source": [
    "img = Image.open(fname)\n",
    "img.show()"
   ]
  }
 ],
 "metadata": {
  "kernelspec": {
   "display_name": "Python 3",
   "language": "python",
   "name": "python3"
  },
  "language_info": {
   "codemirror_mode": {
    "name": "ipython",
    "version": 3
   },
   "file_extension": ".py",
   "mimetype": "text/x-python",
   "name": "python",
   "nbconvert_exporter": "python",
   "pygments_lexer": "ipython3",
   "version": "3.7.1"
  }
 },
 "nbformat": 4,
 "nbformat_minor": 2
}
